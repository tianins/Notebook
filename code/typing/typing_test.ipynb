{
 "cells": [
  {
   "cell_type": "markdown",
   "id": "e1b6ffb5",
   "metadata": {},
   "source": [
    "# Python 类型标注（Typing）教程\n",
    "\n",
    "## 简介\n",
    "\n",
    "Python 是一种动态类型语言，这意味着变量的类型是在运行时确定的，而不是在编译时。虽然这提供了灵活性，但也可能导致一些难以追踪的错误。从 Python 3.5 开始，引入了 typing 模块，允许开发者添加类型提示（type hints）来增强代码的可读性和可维护性。"
   ]
  },
  {
   "cell_type": "markdown",
   "id": "6381c681",
   "metadata": {},
   "source": [
    "## 基础使用\n",
    "### 基本类型标注"
   ]
  },
  {
   "cell_type": "code",
   "execution_count": 2,
   "id": "37b53197",
   "metadata": {},
   "outputs": [
    {
     "name": "stdout",
     "output_type": "stream",
     "text": [
      "Hello, Alice\n"
     ]
    }
   ],
   "source": [
    "# 变量类型标注\n",
    "age: int = 25\n",
    "name: str = \"Alice\"\n",
    "is_student: bool = True\n",
    "height: float = 1.75\n",
    "\n",
    "# 函数参数和返回值标注\n",
    "def greet(name: str) -> str:\n",
    "    return f\"Hello, {name}\"\n",
    "\n",
    "print(greet(name))"
   ]
  },
  {
   "cell_type": "code",
   "execution_count": null,
   "id": "a6d09364",
   "metadata": {
    "vscode": {
     "languageId": "ini"
    }
   },
   "outputs": [],
   "source": [
    "# 标注类型不影响运行时的行为\n",
    "# 这样做不会报错，因为 Python 并不强制执行类型限制\n",
    "age: int = \"twenty five\"  # 不符合类型标注，但代码仍会运行"
   ]
  },
  {
   "cell_type": "markdown",
   "id": "9af6746d",
   "metadata": {},
   "source": [
    "## 常用类型"
   ]
  },
  {
   "cell_type": "code",
   "execution_count": 5,
   "id": "a14a48b6",
   "metadata": {},
   "outputs": [],
   "source": [
    "# 基本类型\n",
    "from typing import List, Dict, Tuple, Set, Optional, Union, Any\n",
    "\n",
    "# 列表\n",
    "names: List[str] = [\"1\",\"2\",\"3\"]\n",
    "\n",
    "# 字典\n",
    "user_ages: Dict[str, int] = {\"a\":15,\"b\":20}\n",
    "\n",
    "# 元组\n",
    "point: Tuple[int, int] = (10,20)\n",
    "\n",
    "# 集合\n",
    "unique_numbers: Set[int] = {1,2,3,4}\n",
    "\n",
    "# 联合类型\n",
    "is_number: Union[int, str] = \"1234\" # 可以是整数或者字符串\n",
    "\n",
    "# 可选类型\n",
    "maybe_name: Optional[str] = None # 等价于Union[str, None]\n",
    "\n",
    "# Any 类型 可以是任何类型，相等于不做检查\n",
    "\n",
    "anything: Any = 42\n",
    "anything = \"123\""
   ]
  },
  {
   "cell_type": "markdown",
   "id": "3caea3cf",
   "metadata": {},
   "source": [
    "## 嵌套类型"
   ]
  },
  {
   "cell_type": "code",
   "execution_count": 7,
   "id": "fb8a6e56",
   "metadata": {},
   "outputs": [],
   "source": [
    "# 嵌套类型\n",
    "matrix: List[List[int]] = [[1,2],[2,3]]\n",
    "\n",
    "# 复杂的类型嵌套解构\n",
    "user_by_depth: Dict[str, List[Dict[str, Union[str, int]]]] = {\n",
    "    \"E\": [\n",
    "        {\"name\":\"A\",\"age\":25},\n",
    "        {\"name\":\"B\",\"age\":30}\n",
    "    ]\n",
    "}\n"
   ]
  },
  {
   "cell_type": "markdown",
   "id": "13438e90",
   "metadata": {},
   "source": [
    "# 自定义类型与类型别名"
   ]
  },
  {
   "cell_type": "code",
   "execution_count": 12,
   "id": "94d2ee64",
   "metadata": {},
   "outputs": [],
   "source": [
    "from typing import List, Dict, Union, TypeAlias\n",
    "\n",
    "# 类型别名\n",
    "UserID = int\n",
    "UserName= str\n",
    "userdata = Dict[str, Union[str, int]]\n",
    "\n",
    "# 使用类型别名\n",
    "userid: UserID = 12345\n",
    "userData: Dict[str, Union[str, int]] = {1:\"A\",\"2\":\"b\"}\n",
    "\n",
    "# Python 3.10+ 支持更简洁的语法\n",
    "UserList: TypeAlias = List[userdata]\n",
    "UserList = List[userdata]"
   ]
  },
  {
   "cell_type": "code",
   "execution_count": null,
   "id": "3daf81eb",
   "metadata": {},
   "outputs": [],
   "source": [
    "## 函数和可调用对象"
   ]
  },
  {
   "cell_type": "code",
   "execution_count": null,
   "id": "72b38aa0",
   "metadata": {},
   "outputs": [
    {
     "name": "stdout",
     "output_type": "stream",
     "text": [
      "hello ,abc!\n"
     ]
    }
   ],
   "source": [
    "from typing import Callable\n",
    "\n",
    "# Callable 接收两个部分,一个列表 [...]，表示参数类型,一个返回值类型\n",
    "\n",
    "# 接受任意输入，返回str\n",
    "# GreetingFunc = Callable[..., str]\n",
    "\n",
    "# # 不接受任何输入，返回str\n",
    "# GreetingFunc = Callable[[], str]\n",
    "\n",
    "# 函数类型，接受一个入参str，一个返回str\n",
    "GreetingFunc = Callable[[str], str]\n",
    "\n",
    "def create_greeter(greeting_func: GreetingFunc) -> GreetingFunc:\n",
    "    def wrapper(name: str) -> str:\n",
    "        return greeting_func(name)\n",
    "    return wrapper\n",
    "\n",
    "def hello(name: str) -> str:\n",
    "    return f\"hello ,{name}!\"\n",
    "\n",
    "new_greeter = create_greeter(hello)\n",
    "\n",
    "print(new_greeter(\"abc\"))"
   ]
  },
  {
   "cell_type": "markdown",
   "id": "6874b000",
   "metadata": {},
   "source": [
    "## 泛型\n",
    "泛型允许创建适用于多种类型的代码"
   ]
  },
  {
   "cell_type": "code",
   "execution_count": 16,
   "id": "bc07f6ff",
   "metadata": {},
   "outputs": [
    {
     "name": "stdout",
     "output_type": "stream",
     "text": [
      "2\n",
      "hello\n"
     ]
    }
   ],
   "source": [
    "from typing import TypeVar, Generic, List\n",
    "\n",
    "T = TypeVar('T')\n",
    "\n",
    "# 泛型函数\n",
    "def first_element(items: List[T]) -> T:\n",
    "    return items[0]\n",
    "\n",
    "\n",
    "# 泛型类\n",
    "class Stack(Generic[T]):\n",
    "    def __init__(self) -> None:\n",
    "        self.items: List[T] = []\n",
    "\n",
    "    def push(self, item: T) -> None:\n",
    "        self.items.append(item)\n",
    "    \n",
    "    def pop(self) -> T:\n",
    "        return self.items.pop()\n",
    "    \n",
    "    def is_empty(self) -> bool:\n",
    "        return len(self.items) == 0\n",
    "    \n",
    "# 使用例子\n",
    "int_stack = Stack[int]()\n",
    "int_stack.push(1)\n",
    "int_stack.push(2)\n",
    "print(int_stack.pop())\n",
    "\n",
    "str_stack = Stack[str]()\n",
    "str_stack.push('hello')\n",
    "print(str_stack.pop())"
   ]
  },
  {
   "cell_type": "markdown",
   "id": "0173ac22",
   "metadata": {},
   "source": [
    "## 实际使用案例\n",
    "### 数据处理"
   ]
  },
  {
   "cell_type": "code",
   "execution_count": 18,
   "id": "85db3d41",
   "metadata": {},
   "outputs": [
    {
     "name": "stdout",
     "output_type": "stream",
     "text": [
      "共有 3 个用户，其中 2 个活跃用户\n"
     ]
    }
   ],
   "source": [
    "from typing import Dict, List, Tuple, Optional, Union, TypedDict, Callable\n",
    "import json\n",
    "from datetime import datetime\n",
    "\n",
    "# 使用TypeDict定义结构化字典类型\n",
    "class UserDict(TypedDict):\n",
    "    id: int\n",
    "    name: str\n",
    "    email: str\n",
    "    active: bool\n",
    "    joined_at: str\n",
    "    metadata: Optional[Dict[str, Union[str, int, bool]]]\n",
    "\n",
    "# 定义处理函数\n",
    "def load_users(file_path: str) -> List[UserDict]:\n",
    "    with open(file_path, 'r') as f:\n",
    "        return json.load(f)\n",
    "    \n",
    "def filter_users(\n",
    "        users: List[UserDict],\n",
    "        predicate: Callable[[UserDict], bool]\n",
    ") -> List[UserDict]:\n",
    "    return [user for user in users if predicate(user)]\n",
    "\n",
    "def get_user_stars(users: List[UserDict]) -> Dict[str, Union[int, float]]:\n",
    "    active_users = filter_users(users, lambda u:u[\"active\"])\n",
    "    return {\n",
    "        \"total\": len(users),\n",
    "        \"active\": len(active_users),\n",
    "        \"active_percentage\": len(active_users)/ len(users) *100 if users else 0\n",
    "    }\n",
    "\n",
    "def format_date(date_str: str) -> str:\n",
    "    dt = datetime.fromisoformat(date_str.replace(\"Z\",\"+00:00\"))\n",
    "    return dt.strftime(\"%Y-%m-%d\")\n",
    "\n",
    "def process_users(file_path: str) -> Tuple[List[UserDict], Dict[str, Union[int, float]]]:\n",
    "    users = load_users(file_path)\n",
    "\n",
    "    for user in users:\n",
    "        # 添加格式化日期\n",
    "        if \"joined_at\" in user:\n",
    "            user[\"formatted_join_date\"] = format_date(user[\"joined_at\"])\n",
    "    \n",
    "    stats = get_user_stars(users)\n",
    "    return users, stats\n",
    "\n",
    "users, stats = process_users(\"user.json\")\n",
    "print(f\"共有 {stats['total']} 个用户，其中 {stats['active']} 个活跃用户\")"
   ]
  }
 ],
 "metadata": {
  "kernelspec": {
   "display_name": "nlp_0504",
   "language": "python",
   "name": "python3"
  },
  "language_info": {
   "codemirror_mode": {
    "name": "ipython",
    "version": 3
   },
   "file_extension": ".py",
   "mimetype": "text/x-python",
   "name": "python",
   "nbconvert_exporter": "python",
   "pygments_lexer": "ipython3",
   "version": "3.11.11"
  }
 },
 "nbformat": 4,
 "nbformat_minor": 5
}
